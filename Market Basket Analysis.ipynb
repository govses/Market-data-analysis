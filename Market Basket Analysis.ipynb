{
 "cells": [
  {
   "cell_type": "markdown",
   "metadata": {},
   "source": [
    "# Problem Statement"
   ]
  },
  {
   "cell_type": "markdown",
   "metadata": {},
   "source": [
    "Apriori is a statistical algorithm for implementing associate rule mining, that primarily relies on\n",
    "three components: Life, Support and Confidence. Using this algorithm try to find the rules that\n",
    "describe the relation between each of the products that were brought by the customers as\n",
    "described in\n",
    "\n",
    "Dataset Link: Store Data\n",
    "    \n",
    "https://drive.google.com/file/d/1y5DYn0dGoSbC22xowBq2d4po6h1JxcTQ/view?usp=sharing"
   ]
  },
  {
   "cell_type": "markdown",
   "metadata": {},
   "source": [
    "Association Rule Mining is used when we want to find an association between different\n",
    "objects in a set or find frequent patterns in a transaction database or relational databases.\n",
    "The applications of Association Rule Mining are found in Marketing, Basket Data Analysis\n",
    "(or Market Basket Analysis) in retailing, clustering and classification. It can be used to find\n",
    "what items do customers frequently buy together by generating a set of rules called\n",
    "Association Rules"
   ]
  },
  {
   "cell_type": "markdown",
   "metadata": {},
   "source": [
    "# <center>Association Rule Mining</center>\n",
    "\n",
    "\n",
    "## Overview:\n",
    "\n",
    "Association rule mining is a technique to identify underlying relations between different items. Take an example of a Super Market where customers can buy variety of items. Usually, there is a pattern in what the customers buy. For instance, mothers with babies buy baby products such as milk and diapers. Damsels may buy makeup items whereas bachelors may buy beers and chips etc. In short, transactions involve a pattern. More profit can be generated if the relationship between the items purchased in different transactions can be identified.\n",
    "\n",
    "For instance, if item A and B are bought together more frequently then several steps can be taken to increase the profit. For example:\n",
    "\n",
    "- A and B can be placed together so that when a customer buys one of the product he doesn't have to go far away to buy the other product.\n",
    "- People who buy one of the products can be targeted through an advertisement campaign to buy the other.\n",
    "- Collective discounts can be offered on these products if the customer buys both of them.\n",
    "- Both A and B can be packaged together.\n",
    "\n",
    "The process of identifying an associations between products is called association rule mining.\n",
    "\n",
    "Association rule learning is the rule-based machine learning method for discovering interesting relations between variables in large databases using some measure of interestingness. Apriori algorithm is one such algorithm that is used to identify these strong rules. It is an algorithm for frequent item set mining and association rule learning over relational databases.\n",
    "\n",
    "## Introduction:\n",
    "\n",
    "Frequent pattern mining algorithm is one of the most important techniques of data mining to discover relationships between different items in a dataset. These relationships are represented in the form of association rules.\n",
    "Apriori is an algorithm used to identify frequent item sets (in our case, item pairs). It does so by using a \"bottom up\" approach, first identifying individual items that satisfy a minimum occurrence threshold. It then extends the item set, adding one item at a time and checking if the resulting item set still satisfies the specified threshold. The algorithm stops when there are no more items to add that meet the minimum occurrence requirement.\n",
    "A set of items together is called an Itemset. An itemset that occurs frequently is called frequent itemset. A set of items is called frequent if it satisfies a minimum threshold value for support & confidence.\n",
    "\n",
    "Association rule mining is defined as:\n",
    "\n",
    "    “Let I = {….} be a set of ‘n’ binary attributes called items. Let D = {….} be the set of transactions called database. Each transaction in D has a unique transaction ID and contains a subset of item in I. A rule is defined as an implication of the form A->B where A, B (subset symbol) I. The set of items A and B are called antecedent and consequent of the rules respectively.”\n",
    "    \n",
    "    \n",
    "## Various Metric in Measure Association:\n",
    "\n",
    "There are five key metrics to consider when evaluating association rules-\n",
    "\n",
    "### Support\n",
    "\n",
    "This is the percentage of orders that contain the item set. The minimum support required by apriori can be set based on knowledge of your domain. In the grocery dataset for example, since there could be thousands of distinct items and an order can contain only a small fraction of these items, setting the support threshold to 0.01% may be reasonable.\n",
    "\n",
    "### Confidence\n",
    "\n",
    "Given two items, A and B, confidence measures the percentage of items that B is purchased, given that item A was purchased.\n",
    "This is expressed as:\n",
    "\n",
    "    Confidence(A->B) = support (A, B) / support (A)\n",
    "    \n",
    "Confidence values range from 0 to 1, where 0 indicates that B is never purchased when A is purchased, and 1 indicates that B is always purchased whenever A is purchased. Note that the confidence measure is directional. This means that we can also compute the percentage of times that items A is purchased, given that item B was purchased.\n",
    "\n",
    "    Confidence(B->A) = support (A, B) / support(B)\n",
    "    \n",
    "A confidence value of 0.75 implies that out of all orders that contain A, 75% of them also contain B.\n",
    "\n",
    "### Lift \n",
    "\n",
    "Given two items, A and B, lift indicates whether there is a relationship between A and B, or whether the two items are occurring together in the same orders simply by chance (i.e. at random). Unlike the confidence metric whose value may vary depending on the direction, lift has no direction. This means that the lift (A, B) is always equal to the lift (B, A).\n",
    "\n",
    "    Lift (A, B) = Lift (B, A) = Confidence(B->A)/support(A) = support (A, B)/(support(A) * support(B))\n",
    "    \n",
    "One way to understand lift is to think of the denominator as the likelihood that A and B will appear in the same order if there was no relationship between them. If suppose A occurred in 80% of the orders and B occurred in 60% of the orders, then if there was no relationship between them, we would expect both of them to show up together in the same order 48% of the time (ie: 80% * 60%). The numerator, on the other hand, represents how often A and B actually appear together in the same order. Taking the numerator and dividing it by the denominator, we get to know how many more times A and B actually appear in the same order, compared to if there was no relationship between them (i.e.: that they are occurring together simply at random).\n",
    "\n",
    "In summary, lift can take on the following values:\n",
    "    - Lift = 1 implies no relationship between A and B (ie: A & B occur together only by chance).\n",
    "    - Lift > 1 implies that there is a positive relationship between A & B. (i.e.: A & B occur  together more often than random).\n",
    "    - Lift < 1 implies that there is a negative relationship between A & B (i.e.: A & B occur together less often than random).\n",
    "    \n",
    "### Leverage\n",
    "$$\\text{levarage}(A\\rightarrow C) = \\text{support}(A\\rightarrow C) - \\text{support}(A) \\times \\text{support}(C), \\;\\;\\; \\text{range: } [-1, 1]$$\n",
    "\n",
    "Leverage computes the difference between the observed frequency of A and C appearing together and the frequency that would be expected if A and C were independent. An leverage value of 0 indicates independence.\n",
    "\n",
    "### Conviction\n",
    "$$\\text{conviction}(A\\rightarrow C) = \\frac{1 - \\text{support}(C)}{1 - \\text{confidence}(A\\rightarrow C)}, \\;\\;\\; \\text{range: } [0, \\infty]$$\n",
    "\n",
    "A high conviction value means that the consequent is highly depending on the antecedent. For instance, in the case of a perfect confidence score, the denominator becomes 0 (due to 1 - 1) for which the conviction score is defined as 'inf'. Similar to lift, if items are independent, the conviction is 1.\n",
    "    \n",
    "## Steps involved in Apriori Algorithm\n",
    "\n",
    "For large sets of data, there can be hundreds of items in hundreds of thousands transactions. The Apriori algorithm tries to extract rules for each possible combination of items. For instance, Lift can be calculated for item 1 and item 2, item 1 and item 3, item 1 and item 4 and then item 2 and item 3, item 2 and item 4 and then combinations of items e.g. item 1, item 2 and item 3; similarly item 1, item2, and item 4, and so on.\n",
    "\n",
    "As you can see from the above example, this process can be extremely slow due to the number of combinations. To speed up the process, we need to perform the following steps:\n",
    "\n",
    "- Set a minimum value for support and confidence. This means that we are only interested in finding rules for the items that have certain default existence (e.g. support) and have a minimum value for co-occurrence with other items (e.g. confidence).\n",
    "- Extract all the subsets having higher value of support than minimum threshold.\n",
    "- Select all the rules from the subsets with confidence value higher than minimum threshold.\n",
    "- Order the rules by descending order of Lift."
   ]
  },
  {
   "cell_type": "code",
   "execution_count": 1,
   "metadata": {},
   "outputs": [],
   "source": [
    "import pandas as pd\n",
    "import numpy as np\n",
    "import matplotlib.pyplot as plt\n",
    "import seaborn as sns"
   ]
  },
  {
   "cell_type": "code",
   "execution_count": 2,
   "metadata": {},
   "outputs": [
    {
     "data": {
      "text/html": [
       "<div>\n",
       "<style scoped>\n",
       "    .dataframe tbody tr th:only-of-type {\n",
       "        vertical-align: middle;\n",
       "    }\n",
       "\n",
       "    .dataframe tbody tr th {\n",
       "        vertical-align: top;\n",
       "    }\n",
       "\n",
       "    .dataframe thead th {\n",
       "        text-align: right;\n",
       "    }\n",
       "</style>\n",
       "<table border=\"1\" class=\"dataframe\">\n",
       "  <thead>\n",
       "    <tr style=\"text-align: right;\">\n",
       "      <th></th>\n",
       "      <th>shrimp</th>\n",
       "      <th>almonds</th>\n",
       "      <th>avocado</th>\n",
       "      <th>vegetables mix</th>\n",
       "      <th>green grapes</th>\n",
       "      <th>whole weat flour</th>\n",
       "      <th>yams</th>\n",
       "      <th>cottage cheese</th>\n",
       "      <th>energy drink</th>\n",
       "      <th>tomato juice</th>\n",
       "      <th>low fat yogurt</th>\n",
       "      <th>green tea</th>\n",
       "      <th>honey</th>\n",
       "      <th>salad</th>\n",
       "      <th>mineral water</th>\n",
       "      <th>salmon</th>\n",
       "      <th>antioxydant juice</th>\n",
       "      <th>frozen smoothie</th>\n",
       "      <th>spinach</th>\n",
       "      <th>olive oil</th>\n",
       "    </tr>\n",
       "  </thead>\n",
       "  <tbody>\n",
       "    <tr>\n",
       "      <th>0</th>\n",
       "      <td>burgers</td>\n",
       "      <td>meatballs</td>\n",
       "      <td>eggs</td>\n",
       "      <td>NaN</td>\n",
       "      <td>NaN</td>\n",
       "      <td>NaN</td>\n",
       "      <td>NaN</td>\n",
       "      <td>NaN</td>\n",
       "      <td>NaN</td>\n",
       "      <td>NaN</td>\n",
       "      <td>NaN</td>\n",
       "      <td>NaN</td>\n",
       "      <td>NaN</td>\n",
       "      <td>NaN</td>\n",
       "      <td>NaN</td>\n",
       "      <td>NaN</td>\n",
       "      <td>NaN</td>\n",
       "      <td>NaN</td>\n",
       "      <td>NaN</td>\n",
       "      <td>NaN</td>\n",
       "    </tr>\n",
       "    <tr>\n",
       "      <th>1</th>\n",
       "      <td>chutney</td>\n",
       "      <td>NaN</td>\n",
       "      <td>NaN</td>\n",
       "      <td>NaN</td>\n",
       "      <td>NaN</td>\n",
       "      <td>NaN</td>\n",
       "      <td>NaN</td>\n",
       "      <td>NaN</td>\n",
       "      <td>NaN</td>\n",
       "      <td>NaN</td>\n",
       "      <td>NaN</td>\n",
       "      <td>NaN</td>\n",
       "      <td>NaN</td>\n",
       "      <td>NaN</td>\n",
       "      <td>NaN</td>\n",
       "      <td>NaN</td>\n",
       "      <td>NaN</td>\n",
       "      <td>NaN</td>\n",
       "      <td>NaN</td>\n",
       "      <td>NaN</td>\n",
       "    </tr>\n",
       "    <tr>\n",
       "      <th>2</th>\n",
       "      <td>turkey</td>\n",
       "      <td>avocado</td>\n",
       "      <td>NaN</td>\n",
       "      <td>NaN</td>\n",
       "      <td>NaN</td>\n",
       "      <td>NaN</td>\n",
       "      <td>NaN</td>\n",
       "      <td>NaN</td>\n",
       "      <td>NaN</td>\n",
       "      <td>NaN</td>\n",
       "      <td>NaN</td>\n",
       "      <td>NaN</td>\n",
       "      <td>NaN</td>\n",
       "      <td>NaN</td>\n",
       "      <td>NaN</td>\n",
       "      <td>NaN</td>\n",
       "      <td>NaN</td>\n",
       "      <td>NaN</td>\n",
       "      <td>NaN</td>\n",
       "      <td>NaN</td>\n",
       "    </tr>\n",
       "    <tr>\n",
       "      <th>3</th>\n",
       "      <td>mineral water</td>\n",
       "      <td>milk</td>\n",
       "      <td>energy bar</td>\n",
       "      <td>whole wheat rice</td>\n",
       "      <td>green tea</td>\n",
       "      <td>NaN</td>\n",
       "      <td>NaN</td>\n",
       "      <td>NaN</td>\n",
       "      <td>NaN</td>\n",
       "      <td>NaN</td>\n",
       "      <td>NaN</td>\n",
       "      <td>NaN</td>\n",
       "      <td>NaN</td>\n",
       "      <td>NaN</td>\n",
       "      <td>NaN</td>\n",
       "      <td>NaN</td>\n",
       "      <td>NaN</td>\n",
       "      <td>NaN</td>\n",
       "      <td>NaN</td>\n",
       "      <td>NaN</td>\n",
       "    </tr>\n",
       "    <tr>\n",
       "      <th>4</th>\n",
       "      <td>low fat yogurt</td>\n",
       "      <td>NaN</td>\n",
       "      <td>NaN</td>\n",
       "      <td>NaN</td>\n",
       "      <td>NaN</td>\n",
       "      <td>NaN</td>\n",
       "      <td>NaN</td>\n",
       "      <td>NaN</td>\n",
       "      <td>NaN</td>\n",
       "      <td>NaN</td>\n",
       "      <td>NaN</td>\n",
       "      <td>NaN</td>\n",
       "      <td>NaN</td>\n",
       "      <td>NaN</td>\n",
       "      <td>NaN</td>\n",
       "      <td>NaN</td>\n",
       "      <td>NaN</td>\n",
       "      <td>NaN</td>\n",
       "      <td>NaN</td>\n",
       "      <td>NaN</td>\n",
       "    </tr>\n",
       "  </tbody>\n",
       "</table>\n",
       "</div>"
      ],
      "text/plain": [
       "           shrimp    almonds     avocado    vegetables mix green grapes  \\\n",
       "0         burgers  meatballs        eggs               NaN          NaN   \n",
       "1         chutney        NaN         NaN               NaN          NaN   \n",
       "2          turkey    avocado         NaN               NaN          NaN   \n",
       "3   mineral water       milk  energy bar  whole wheat rice    green tea   \n",
       "4  low fat yogurt        NaN         NaN               NaN          NaN   \n",
       "\n",
       "  whole weat flour yams cottage cheese energy drink tomato juice  \\\n",
       "0              NaN  NaN            NaN          NaN          NaN   \n",
       "1              NaN  NaN            NaN          NaN          NaN   \n",
       "2              NaN  NaN            NaN          NaN          NaN   \n",
       "3              NaN  NaN            NaN          NaN          NaN   \n",
       "4              NaN  NaN            NaN          NaN          NaN   \n",
       "\n",
       "  low fat yogurt green tea honey salad mineral water salmon antioxydant juice  \\\n",
       "0            NaN       NaN   NaN   NaN           NaN    NaN               NaN   \n",
       "1            NaN       NaN   NaN   NaN           NaN    NaN               NaN   \n",
       "2            NaN       NaN   NaN   NaN           NaN    NaN               NaN   \n",
       "3            NaN       NaN   NaN   NaN           NaN    NaN               NaN   \n",
       "4            NaN       NaN   NaN   NaN           NaN    NaN               NaN   \n",
       "\n",
       "  frozen smoothie spinach  olive oil  \n",
       "0             NaN     NaN        NaN  \n",
       "1             NaN     NaN        NaN  \n",
       "2             NaN     NaN        NaN  \n",
       "3             NaN     NaN        NaN  \n",
       "4             NaN     NaN        NaN  "
      ]
     },
     "execution_count": 2,
     "metadata": {},
     "output_type": "execute_result"
    }
   ],
   "source": [
    "data = pd.read_csv('store_data.csv')\n",
    "data.head()"
   ]
  },
  {
   "cell_type": "code",
   "execution_count": 3,
   "metadata": {
    "scrolled": true
   },
   "outputs": [
    {
     "name": "stdout",
     "output_type": "stream",
     "text": [
      "<class 'pandas.core.frame.DataFrame'>\n",
      "RangeIndex: 7500 entries, 0 to 7499\n",
      "Data columns (total 20 columns):\n",
      " #   Column             Non-Null Count  Dtype  \n",
      "---  ------             --------------  -----  \n",
      " 0   shrimp             7500 non-null   object \n",
      " 1   almonds            5746 non-null   object \n",
      " 2   avocado            4388 non-null   object \n",
      " 3   vegetables mix     3344 non-null   object \n",
      " 4   green grapes       2528 non-null   object \n",
      " 5   whole weat flour   1863 non-null   object \n",
      " 6   yams               1368 non-null   object \n",
      " 7   cottage cheese     980 non-null    object \n",
      " 8   energy drink       653 non-null    object \n",
      " 9   tomato juice       394 non-null    object \n",
      " 10  low fat yogurt     255 non-null    object \n",
      " 11  green tea          153 non-null    object \n",
      " 12  honey              86 non-null     object \n",
      " 13  salad              46 non-null     object \n",
      " 14  mineral water      24 non-null     object \n",
      " 15  salmon             7 non-null      object \n",
      " 16  antioxydant juice  3 non-null      object \n",
      " 17  frozen smoothie    3 non-null      object \n",
      " 18  spinach            2 non-null      object \n",
      " 19  olive oil          0 non-null      float64\n",
      "dtypes: float64(1), object(19)\n",
      "memory usage: 1.1+ MB\n"
     ]
    }
   ],
   "source": [
    "data.info()"
   ]
  },
  {
   "cell_type": "code",
   "execution_count": 4,
   "metadata": {},
   "outputs": [
    {
     "data": {
      "text/plain": [
       "(7500, 20)"
      ]
     },
     "execution_count": 4,
     "metadata": {},
     "output_type": "execute_result"
    }
   ],
   "source": [
    "data.shape"
   ]
  },
  {
   "cell_type": "markdown",
   "metadata": {},
   "source": [
    "# Apriori\n",
    "Informal definition: \"Customer who bought this will also buy...\" --> Apriori algorithm figures this out. This is used for optimization of combination of things.\n",
    "\n",
    "Definition of terms\n",
    "\n",
    "1) Support\n",
    "<img src=\"1.png\"> \n",
    "\n",
    "2) Confidence\n",
    "<img src=\"2.png\">\n",
    "\n",
    "3) Lift\n",
    "<img src=\"3.png\">\n",
    "\n",
    "Steps\n",
    "<img src=\"step 1.png\">"
   ]
  },
  {
   "cell_type": "code",
   "execution_count": 5,
   "metadata": {},
   "outputs": [
    {
     "name": "stdout",
     "output_type": "stream",
     "text": [
      "['burgers', 'meatballs', 'eggs', 'nan', 'nan', 'nan', 'nan', 'nan', 'nan', 'nan', 'nan', 'nan', 'nan', 'nan', 'nan', 'nan', 'nan', 'nan', 'nan', 'nan']\n"
     ]
    }
   ],
   "source": [
    "transactions = []\n",
    "for i in range(0, data.shape[0]):\n",
    "    transactions.append([str(data.values[i, j]) for j in range(0, 20)])\n",
    "\n",
    "print(transactions[0])"
   ]
  },
  {
   "cell_type": "code",
   "execution_count": 7,
   "metadata": {},
   "outputs": [
    {
     "name": "stdout",
     "output_type": "stream",
     "text": [
      "Collecting apyori\n",
      "  Downloading apyori-1.1.2.tar.gz (8.6 kB)\n",
      "Building wheels for collected packages: apyori\n",
      "  Building wheel for apyori (setup.py): started\n",
      "  Building wheel for apyori (setup.py): finished with status 'done'\n",
      "  Created wheel for apyori: filename=apyori-1.1.2-py3-none-any.whl size=5974 sha256=75af293f7d87dac9349bd8c760a9eb0bbbc70e06023fb90c12c85e2a3de26abb\n",
      "  Stored in directory: c:\\users\\govardhan\\appdata\\local\\pip\\cache\\wheels\\1b\\02\\6c\\a45230be8603bd95c0a51cd2b289aefdd860c1a100eab73661\n",
      "Successfully built apyori\n",
      "Installing collected packages: apyori\n",
      "Successfully installed apyori-1.1.2\n",
      "Note: you may need to restart the kernel to use updated packages.\n"
     ]
    }
   ],
   "source": [
    "pip install apyori"
   ]
  },
  {
   "cell_type": "code",
   "execution_count": 9,
   "metadata": {},
   "outputs": [],
   "source": [
    "from apyori import apriori\n",
    "\n",
    "rules = apriori(transactions, min_support = 0.003, min_confidence = 0.2, min_lift = 3, min_length = 2)\n",
    "# Support: number of transactions containing set of times / total number of transactions\n",
    "# .      --> products that are bought at least 3 times a day --> 21 / 7501 = 0.0027\n",
    "# Confidence: Should not be too high, as then this wil lead to obvious rules\n",
    "\n",
    "#Try many combinations of values to experiment with the model. \n",
    "\n",
    "#viewing the rules\n",
    "results = list(rules)"
   ]
  },
  {
   "cell_type": "code",
   "execution_count": 10,
   "metadata": {
    "scrolled": true
   },
   "outputs": [
    {
     "data": {
      "text/html": [
       "<div>\n",
       "<style scoped>\n",
       "    .dataframe tbody tr th:only-of-type {\n",
       "        vertical-align: middle;\n",
       "    }\n",
       "\n",
       "    .dataframe tbody tr th {\n",
       "        vertical-align: top;\n",
       "    }\n",
       "\n",
       "    .dataframe thead th {\n",
       "        text-align: right;\n",
       "    }\n",
       "</style>\n",
       "<table border=\"1\" class=\"dataframe\">\n",
       "  <thead>\n",
       "    <tr style=\"text-align: right;\">\n",
       "      <th></th>\n",
       "      <th>items</th>\n",
       "      <th>support</th>\n",
       "      <th>ordered_statistics</th>\n",
       "    </tr>\n",
       "  </thead>\n",
       "  <tbody>\n",
       "    <tr>\n",
       "      <th>0</th>\n",
       "      <td>(light cream, chicken)</td>\n",
       "      <td>0.004533</td>\n",
       "      <td>[((light cream), (chicken), 0.2905982905982906...</td>\n",
       "    </tr>\n",
       "    <tr>\n",
       "      <th>1</th>\n",
       "      <td>(escalope, mushroom cream sauce)</td>\n",
       "      <td>0.005733</td>\n",
       "      <td>[((mushroom cream sauce), (escalope), 0.300699...</td>\n",
       "    </tr>\n",
       "    <tr>\n",
       "      <th>2</th>\n",
       "      <td>(escalope, pasta)</td>\n",
       "      <td>0.005867</td>\n",
       "      <td>[((pasta), (escalope), 0.37288135593220345, 4....</td>\n",
       "    </tr>\n",
       "    <tr>\n",
       "      <th>3</th>\n",
       "      <td>(fromage blanc, honey)</td>\n",
       "      <td>0.003333</td>\n",
       "      <td>[((fromage blanc), (honey), 0.2450980392156863...</td>\n",
       "    </tr>\n",
       "    <tr>\n",
       "      <th>4</th>\n",
       "      <td>(ground beef, herb &amp; pepper)</td>\n",
       "      <td>0.016000</td>\n",
       "      <td>[((herb &amp; pepper), (ground beef), 0.3234501347...</td>\n",
       "    </tr>\n",
       "  </tbody>\n",
       "</table>\n",
       "</div>"
      ],
      "text/plain": [
       "                              items   support  \\\n",
       "0            (light cream, chicken)  0.004533   \n",
       "1  (escalope, mushroom cream sauce)  0.005733   \n",
       "2                 (escalope, pasta)  0.005867   \n",
       "3            (fromage blanc, honey)  0.003333   \n",
       "4      (ground beef, herb & pepper)  0.016000   \n",
       "\n",
       "                                  ordered_statistics  \n",
       "0  [((light cream), (chicken), 0.2905982905982906...  \n",
       "1  [((mushroom cream sauce), (escalope), 0.300699...  \n",
       "2  [((pasta), (escalope), 0.37288135593220345, 4....  \n",
       "3  [((fromage blanc), (honey), 0.2450980392156863...  \n",
       "4  [((herb & pepper), (ground beef), 0.3234501347...  "
      ]
     },
     "execution_count": 10,
     "metadata": {},
     "output_type": "execute_result"
    }
   ],
   "source": [
    "#Transferring the list to a table\n",
    "\n",
    "results = pd.DataFrame(results)\n",
    "results.head(5)"
   ]
  },
  {
   "cell_type": "code",
   "execution_count": 11,
   "metadata": {
    "scrolled": true
   },
   "outputs": [
    {
     "data": {
      "text/plain": [
       "[OrderedStatistic(items_base=frozenset({'light cream'}), items_add=frozenset({'chicken'}), confidence=0.2905982905982906, lift=4.843304843304844)]"
      ]
     },
     "execution_count": 11,
     "metadata": {},
     "output_type": "execute_result"
    }
   ],
   "source": [
    "results['ordered_statistics'][0]"
   ]
  },
  {
   "cell_type": "markdown",
   "metadata": {},
   "source": [
    "As you can see we have Life , Confidence and Support"
   ]
  }
 ],
 "metadata": {
  "kernelspec": {
   "display_name": "Python 3",
   "language": "python",
   "name": "python3"
  },
  "language_info": {
   "codemirror_mode": {
    "name": "ipython",
    "version": 3
   },
   "file_extension": ".py",
   "mimetype": "text/x-python",
   "name": "python",
   "nbconvert_exporter": "python",
   "pygments_lexer": "ipython3",
   "version": "3.8.8"
  }
 },
 "nbformat": 4,
 "nbformat_minor": 2
}
